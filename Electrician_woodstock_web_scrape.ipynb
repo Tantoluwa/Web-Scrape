{
 "cells": [
  {
   "cell_type": "code",
   "execution_count": 1,
   "id": "bcdfc7fb",
   "metadata": {},
   "outputs": [],
   "source": [
    "import requests\n",
    "from bs4 import BeautifulSoup\n",
    "import pandas as pd"
   ]
  },
  {
   "cell_type": "code",
   "execution_count": 2,
   "id": "96f0350d",
   "metadata": {},
   "outputs": [],
   "source": [
    "# Define the URL of the search page"
   ]
  },
  {
   "cell_type": "code",
   "execution_count": 3,
   "id": "0a4cb1e1",
   "metadata": {},
   "outputs": [],
   "source": [
    "url = \"https://www.yellowpages.ca/search/si/1/Painting+Contractors/Woodstock+ON\""
   ]
  },
  {
   "cell_type": "code",
   "execution_count": 4,
   "id": "9e16126b",
   "metadata": {},
   "outputs": [],
   "source": [
    "# Send a GET request to the URL"
   ]
  },
  {
   "cell_type": "code",
   "execution_count": 5,
   "id": "fb596a4d",
   "metadata": {},
   "outputs": [],
   "source": [
    "response = requests.get(url)"
   ]
  },
  {
   "cell_type": "code",
   "execution_count": 6,
   "id": "dbcce4b6",
   "metadata": {},
   "outputs": [],
   "source": [
    "# Check the response status"
   ]
  },
  {
   "cell_type": "code",
   "execution_count": 8,
   "id": "408112d5",
   "metadata": {},
   "outputs": [
    {
     "name": "stdout",
     "output_type": "stream",
     "text": [
      "Request was successful!\n"
     ]
    }
   ],
   "source": [
    "if response.status_code == 200:\n",
    "    print(\"Request was successful!\")\n",
    "elif response.status_code == 404:\n",
    "    print(\"Page not found!\")\n",
    "else:\n",
    "    print(\"An error occurred. Status code:\", response.status_code)"
   ]
  },
  {
   "cell_type": "code",
   "execution_count": 9,
   "id": "5e41e809",
   "metadata": {},
   "outputs": [],
   "source": [
    "# Parse the HTML content using BeautifulSoup"
   ]
  },
  {
   "cell_type": "code",
   "execution_count": 10,
   "id": "4fbbd8d1",
   "metadata": {},
   "outputs": [],
   "source": [
    "soup = BeautifulSoup(response.content, 'html.parser')"
   ]
  },
  {
   "cell_type": "code",
   "execution_count": 11,
   "id": "4723df60",
   "metadata": {},
   "outputs": [],
   "source": [
    "# Find the relevant elements containing painting information"
   ]
  },
  {
   "cell_type": "code",
   "execution_count": 12,
   "id": "f65889fa",
   "metadata": {},
   "outputs": [],
   "source": [
    "painting_listings = soup.find_all('div', class_=''listing__name--link')"
   ]
  },
  {
   "cell_type": "code",
   "execution_count": 13,
   "id": "c22386fc",
   "metadata": {},
   "outputs": [],
   "source": [
    "# Create empty lists to store the extracted data"
   ]
  },
  {
   "cell_type": "code",
   "execution_count": 14,
   "id": "2c0e428d",
   "metadata": {},
   "outputs": [],
   "source": [
    "names = []\n",
    "phones = []\n",
    "addresses = []"
   ]
  },
  {
   "cell_type": "code",
   "execution_count": 15,
   "id": "ecf08877",
   "metadata": {},
   "outputs": [],
   "source": [
    "# Iterate over the electricians list and extract the desired information"
   ]
  },
  {
   "cell_type": "code",
   "execution_count": 17,
   "id": "daba18db",
   "metadata": {},
   "outputs": [],
   "source": [
    "for electrician in electricians:\n",
    "    name_element = electrician.find('a', class_='business-name')\n",
    "    phone_element = electrician.find('div', class_='phones')\n",
    "    address_element = electrician.find('div', class_='street-address')\n",
    "\n",
    "    if name_element is not None:\n",
    "        name = name_element.get_text()\n",
    "        names.append(name)\n",
    "\n",
    "    if phone_element is not None:\n",
    "        phone = phone_element.get_text()\n",
    "        phones.append(phone)\n",
    "\n",
    "    if address_element is not None:\n",
    "        address = address_element.get_text()\n",
    "        addresses.append(address)"
   ]
  },
  {
   "cell_type": "code",
   "execution_count": 18,
   "id": "4b862006",
   "metadata": {},
   "outputs": [],
   "source": [
    "# Create a DataFrame using the extracted data"
   ]
  },
  {
   "cell_type": "code",
   "execution_count": 23,
   "id": "1113b516",
   "metadata": {},
   "outputs": [],
   "source": [
    "max_length = max(len(names), len(phones), len(addresses))\n",
    "names.extend([''] * (max_length - len(names)))\n",
    "phones.extend([''] * (max_length - len(phones)))\n",
    "addresses.extend([''] * (max_length - len(addresses)))"
   ]
  },
  {
   "cell_type": "code",
   "execution_count": 24,
   "id": "2ba6c2c0",
   "metadata": {},
   "outputs": [],
   "source": [
    "# Create a DataFrame from the dictionary"
   ]
  },
  {
   "cell_type": "code",
   "execution_count": 25,
   "id": "787400d5",
   "metadata": {},
   "outputs": [],
   "source": [
    "df = pd.DataFrame(data)"
   ]
  },
  {
   "cell_type": "code",
   "execution_count": 26,
   "id": "175746ae",
   "metadata": {},
   "outputs": [],
   "source": [
    "# Save the DataFrame to an Excel file"
   ]
  },
  {
   "cell_type": "code",
   "execution_count": 28,
   "id": "8d00a946",
   "metadata": {},
   "outputs": [
    {
     "name": "stdout",
     "output_type": "stream",
     "text": [
      "Data saved to electricians_woodstock.xlsx\n"
     ]
    }
   ],
   "source": [
    "if len(df) > 0:\n",
    "    df.to_excel('electricians_woodstock.xlsx', index=False)\n",
    "    print(\"Data saved to electricians_woodstock.xlsx\")\n",
    "else:\n",
    "    print(\"No electricians found.\")"
   ]
  },
  {
   "cell_type": "code",
   "execution_count": 29,
   "id": "81d6b271",
   "metadata": {},
   "outputs": [],
   "source": [
    "df.to_excel('electricians_woodstock.xlsx', index=False)"
   ]
  },
  {
   "cell_type": "code",
   "execution_count": 30,
   "id": "2ba6854f",
   "metadata": {},
   "outputs": [
    {
     "name": "stdout",
     "output_type": "stream",
     "text": [
      "                          Name           Phone                Address\n",
      "0    Erwin Electrical Services  (507) 690-2423          201 Judd St E\n",
      "1            Andersen Electric  (507) 825-3341         1102 7th St SE\n",
      "2               Olsen Electric  (507) 825-2879   589 State Highway 30\n",
      "3          Sioux Valley Energy  (507) 777-4310        1502 17th St SE\n",
      "4                Jers Electric  (507) 825-4206             312 3rd St\n",
      "5  Juhl Energy Development Inc  (507) 442-3181          701 5th Ave W\n",
      "6           Kor Electric, Inc.  (507) 825-2156          213 2nd St NW\n",
      "7             Wassink Electric  (507) 658-3634          531 Smith Ave\n",
      "8         Mark's Electric Shop  (507) 879-3316           432 151st St\n",
      "9           Efficient Electric  (507) 215-7137  1537 State Highway 91\n"
     ]
    }
   ],
   "source": [
    "print(df.head(10))"
   ]
  },
  {
   "cell_type": "code",
   "execution_count": null,
   "id": "d0191ffd",
   "metadata": {},
   "outputs": [],
   "source": []
  }
 ],
 "metadata": {
  "kernelspec": {
   "display_name": "Python 3",
   "language": "python",
   "name": "python3"
  },
  "language_info": {
   "codemirror_mode": {
    "name": "ipython",
    "version": 3
   },
   "file_extension": ".py",
   "mimetype": "text/x-python",
   "name": "python",
   "nbconvert_exporter": "python",
   "pygments_lexer": "ipython3",
   "version": "3.8.8"
  }
 },
 "nbformat": 4,
 "nbformat_minor": 5
}
