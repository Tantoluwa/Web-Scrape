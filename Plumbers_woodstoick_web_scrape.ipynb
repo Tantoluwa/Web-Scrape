{
 "cells": [
  {
   "cell_type": "code",
   "execution_count": 1,
   "id": "6a3e3954",
   "metadata": {},
   "outputs": [],
   "source": [
    "import requests\n",
    "from bs4 import BeautifulSoup\n",
    "import pandas as pd"
   ]
  },
  {
   "cell_type": "code",
   "execution_count": 2,
   "id": "df57b79d",
   "metadata": {},
   "outputs": [],
   "source": [
    "# Define the URL of the search page"
   ]
  },
  {
   "cell_type": "code",
   "execution_count": 3,
   "id": "0487ce88",
   "metadata": {},
   "outputs": [],
   "source": [
    "url = 'https://www.yellowpages.com/woodstock-on/plumbers'"
   ]
  },
  {
   "cell_type": "code",
   "execution_count": 4,
   "id": "d54acbac",
   "metadata": {},
   "outputs": [],
   "source": [
    "# Send an HTTP GET request to the URL"
   ]
  },
  {
   "cell_type": "code",
   "execution_count": 5,
   "id": "b506bd6a",
   "metadata": {},
   "outputs": [],
   "source": [
    "response = requests.get(url)"
   ]
  },
  {
   "cell_type": "code",
   "execution_count": 6,
   "id": "17328f9c",
   "metadata": {},
   "outputs": [],
   "source": [
    "# Check the response status"
   ]
  },
  {
   "cell_type": "code",
   "execution_count": 7,
   "id": "0a6c3a3c",
   "metadata": {},
   "outputs": [
    {
     "name": "stdout",
     "output_type": "stream",
     "text": [
      "Request was successful!\n"
     ]
    }
   ],
   "source": [
    "if response.status_code == 200:\n",
    "    print(\"Request was successful!\")\n",
    "elif response.status_code == 404:\n",
    "    print(\"Page not found!\")\n",
    "else:\n",
    "    print(\"An error occurred. Status code:\", response.status_code)"
   ]
  },
  {
   "cell_type": "code",
   "execution_count": 8,
   "id": "a96c6ea3",
   "metadata": {},
   "outputs": [],
   "source": [
    "# Create a BeautifulSoup object to parse the HTML"
   ]
  },
  {
   "cell_type": "code",
   "execution_count": 9,
   "id": "9eb2bc39",
   "metadata": {},
   "outputs": [],
   "source": [
    "soup = BeautifulSoup(response.text, 'html.parser')"
   ]
  },
  {
   "cell_type": "code",
   "execution_count": 10,
   "id": "3d420d55",
   "metadata": {},
   "outputs": [],
   "source": [
    "# Find all the plumber listings"
   ]
  },
  {
   "cell_type": "code",
   "execution_count": 11,
   "id": "bf498b7e",
   "metadata": {},
   "outputs": [],
   "source": [
    "plumber_listings = soup.find_all(class_='result')"
   ]
  },
  {
   "cell_type": "code",
   "execution_count": 12,
   "id": "461afbbe",
   "metadata": {},
   "outputs": [],
   "source": [
    "# Create empty lists to store the data"
   ]
  },
  {
   "cell_type": "code",
   "execution_count": 13,
   "id": "e10cea79",
   "metadata": {},
   "outputs": [],
   "source": [
    "names = []\n",
    "addresses = []\n",
    "phones = []"
   ]
  },
  {
   "cell_type": "code",
   "execution_count": 14,
   "id": "be4e56aa",
   "metadata": {},
   "outputs": [],
   "source": [
    "# Extract the relevant information from each listing and append to the lists"
   ]
  },
  {
   "cell_type": "code",
   "execution_count": 16,
   "id": "3e3aaf3c",
   "metadata": {},
   "outputs": [],
   "source": [
    "for listing in plumber_listings:\n",
    "    name = listing.find(class_='business-name').text.strip()\n",
    "    \n",
    "    try:\n",
    "        address = listing.find(class_='street-address').text.strip()\n",
    "    except AttributeError:\n",
    "        address = 'No address available'\n",
    "\n",
    "    try:\n",
    "        phone = listing.find(class_='phones').text.strip()\n",
    "    except AttributeError:\n",
    "        phone = 'No phone available'\n",
    "        \n",
    "    names.append(name)\n",
    "    addresses.append(address)\n",
    "    phones.append(phone)"
   ]
  },
  {
   "cell_type": "code",
   "execution_count": 17,
   "id": "54384961",
   "metadata": {},
   "outputs": [],
   "source": [
    "# Create a dictionary from the lists"
   ]
  },
  {
   "cell_type": "code",
   "execution_count": 18,
   "id": "57072953",
   "metadata": {},
   "outputs": [],
   "source": [
    "data = {\n",
    "    'Name': names,\n",
    "    'Address': addresses,\n",
    "    'Phone': phones\n",
    "}"
   ]
  },
  {
   "cell_type": "code",
   "execution_count": 19,
   "id": "11e7fa5a",
   "metadata": {},
   "outputs": [],
   "source": [
    "# Create a DataFrame from the dictionary"
   ]
  },
  {
   "cell_type": "code",
   "execution_count": 20,
   "id": "22fb28cc",
   "metadata": {},
   "outputs": [],
   "source": [
    "df = pd.DataFrame(data)"
   ]
  },
  {
   "cell_type": "code",
   "execution_count": 21,
   "id": "cc7a1a46",
   "metadata": {},
   "outputs": [],
   "source": [
    "# Save the DataFrame to an Excel file"
   ]
  },
  {
   "cell_type": "code",
   "execution_count": 24,
   "id": "2bcf166b",
   "metadata": {},
   "outputs": [],
   "source": [
    "df.to_excel('plumbers_data.xlsx', index=False)"
   ]
  },
  {
   "cell_type": "code",
   "execution_count": 26,
   "id": "82f4b6a8",
   "metadata": {},
   "outputs": [
    {
     "name": "stdout",
     "output_type": "stream",
     "text": [
      "                                Name               Address               Phone\n",
      "0  LaPorte & Sons Plumbing & Heating  No address available  No phone available\n",
      "1                         Rooter-Man  No address available  No phone available\n",
      "2   Stout & Evink Plumbing & Heating         620 7th St SW      (507) 825-2859\n",
      "3               S K & D Construction        1387 180th Ave      (507) 777-4112\n",
      "4         Carstensen Contracting Inc        1507 7th St SE      (507) 825-2026\n",
      "5              Buffalo Ridge Backhoe        520 Duluth Ave      (507) 658-3514\n",
      "6           Rieck Plumbing & Heating          1702 26th St      (507) 442-3030\n",
      "7       Quist Plumbing & Heating Inc        1305 7th St SW      (507) 825-3996\n",
      "8        Johnson Ditching & Plumbing  582 State Highway 91      (507) 879-3580\n",
      "9          Lolkus Plumbing & Heating            750 5th St      (507) 677-2394\n"
     ]
    }
   ],
   "source": [
    "print(df.head(10))"
   ]
  },
  {
   "cell_type": "code",
   "execution_count": null,
   "id": "19fd3671",
   "metadata": {},
   "outputs": [],
   "source": []
  }
 ],
 "metadata": {
  "kernelspec": {
   "display_name": "Python 3",
   "language": "python",
   "name": "python3"
  },
  "language_info": {
   "codemirror_mode": {
    "name": "ipython",
    "version": 3
   },
   "file_extension": ".py",
   "mimetype": "text/x-python",
   "name": "python",
   "nbconvert_exporter": "python",
   "pygments_lexer": "ipython3",
   "version": "3.8.8"
  }
 },
 "nbformat": 4,
 "nbformat_minor": 5
}
