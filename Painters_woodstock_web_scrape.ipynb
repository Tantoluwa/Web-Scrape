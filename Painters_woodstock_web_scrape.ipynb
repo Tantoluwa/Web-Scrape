{
 "cells": [
  {
   "cell_type": "code",
   "execution_count": 27,
   "id": "6a3e3954",
   "metadata": {},
   "outputs": [],
   "source": [
    "import requests\n",
    "from bs4 import BeautifulSoup\n",
    "import pandas as pd"
   ]
  },
  {
   "cell_type": "code",
   "execution_count": 28,
   "id": "df57b79d",
   "metadata": {},
   "outputs": [],
   "source": [
    "# Define the URL of the search page"
   ]
  },
  {
   "cell_type": "code",
   "execution_count": 29,
   "id": "0487ce88",
   "metadata": {},
   "outputs": [],
   "source": [
    "url = 'https://www.yellowpages.ca/search/si/1/painters/Woodstock+ON'"
   ]
  },
  {
   "cell_type": "code",
   "execution_count": 30,
   "id": "d54acbac",
   "metadata": {},
   "outputs": [],
   "source": [
    "# Send an HTTP GET request to the URL"
   ]
  },
  {
   "cell_type": "code",
   "execution_count": 31,
   "id": "b506bd6a",
   "metadata": {},
   "outputs": [],
   "source": [
    "response = requests.get(url)"
   ]
  },
  {
   "cell_type": "code",
   "execution_count": 32,
   "id": "17328f9c",
   "metadata": {},
   "outputs": [],
   "source": [
    "# Check the response status"
   ]
  },
  {
   "cell_type": "code",
   "execution_count": 33,
   "id": "0a6c3a3c",
   "metadata": {},
   "outputs": [
    {
     "name": "stdout",
     "output_type": "stream",
     "text": [
      "Request was successful!\n"
     ]
    }
   ],
   "source": [
    "if response.status_code == 200:\n",
    "    print(\"Request was successful!\")\n",
    "elif response.status_code == 404:\n",
    "    print(\"Page not found!\")\n",
    "else:\n",
    "    print(\"An error occurred. Status code:\", response.status_code)"
   ]
  },
  {
   "cell_type": "code",
   "execution_count": 34,
   "id": "a96c6ea3",
   "metadata": {},
   "outputs": [],
   "source": [
    "# Create a BeautifulSoup object to parse the HTML"
   ]
  },
  {
   "cell_type": "code",
   "execution_count": 35,
   "id": "9eb2bc39",
   "metadata": {},
   "outputs": [],
   "source": [
    "soup = BeautifulSoup(response.text, 'html.parser')"
   ]
  },
  {
   "cell_type": "code",
   "execution_count": 36,
   "id": "3d420d55",
   "metadata": {},
   "outputs": [],
   "source": [
    "# Find all the painter listings"
   ]
  },
  {
   "cell_type": "code",
   "execution_count": 37,
   "id": "5d776777",
   "metadata": {},
   "outputs": [],
   "source": [
    "painters = []"
   ]
  },
  {
   "cell_type": "code",
   "execution_count": 38,
   "id": "bf498b7e",
   "metadata": {},
   "outputs": [],
   "source": [
    "plumber_listings = soup.find_all(class_='result')"
   ]
  },
  {
   "cell_type": "code",
   "execution_count": 39,
   "id": "461afbbe",
   "metadata": {},
   "outputs": [],
   "source": [
    "# Create empty lists to store the data"
   ]
  },
  {
   "cell_type": "code",
   "execution_count": 40,
   "id": "e10cea79",
   "metadata": {},
   "outputs": [],
   "source": [
    "names = []\n",
    "addresses = []\n",
    "phones = []"
   ]
  },
  {
   "cell_type": "code",
   "execution_count": 41,
   "id": "be4e56aa",
   "metadata": {},
   "outputs": [],
   "source": [
    "# Extract the relevant information from each listing and append to the lists"
   ]
  },
  {
   "cell_type": "code",
   "execution_count": 42,
   "id": "3e3aaf3c",
   "metadata": {},
   "outputs": [
    {
     "ename": "AttributeError",
     "evalue": "'NoneType' object has no attribute 'text'",
     "output_type": "error",
     "traceback": [
      "\u001b[1;31m---------------------------------------------------------------------------\u001b[0m",
      "\u001b[1;31mAttributeError\u001b[0m                            Traceback (most recent call last)",
      "\u001b[1;32m<ipython-input-42-9ec13edadeb6>\u001b[0m in \u001b[0;36m<module>\u001b[1;34m\u001b[0m\n\u001b[0;32m      1\u001b[0m \u001b[0mlistings\u001b[0m \u001b[1;33m=\u001b[0m \u001b[0msoup\u001b[0m\u001b[1;33m.\u001b[0m\u001b[0mfind_all\u001b[0m\u001b[1;33m(\u001b[0m\u001b[1;34m'div'\u001b[0m\u001b[1;33m,\u001b[0m \u001b[0mclass_\u001b[0m\u001b[1;33m=\u001b[0m\u001b[1;34m'listing_right_section'\u001b[0m\u001b[1;33m)\u001b[0m\u001b[1;33m\u001b[0m\u001b[1;33m\u001b[0m\u001b[0m\n\u001b[0;32m      2\u001b[0m \u001b[1;32mfor\u001b[0m \u001b[0mlisting\u001b[0m \u001b[1;32min\u001b[0m \u001b[0mlistings\u001b[0m\u001b[1;33m:\u001b[0m\u001b[1;33m\u001b[0m\u001b[1;33m\u001b[0m\u001b[0m\n\u001b[1;32m----> 3\u001b[1;33m     \u001b[0mname\u001b[0m \u001b[1;33m=\u001b[0m \u001b[0mlisting\u001b[0m\u001b[1;33m.\u001b[0m\u001b[0mfind\u001b[0m\u001b[1;33m(\u001b[0m\u001b[1;34m'a'\u001b[0m\u001b[1;33m,\u001b[0m \u001b[0mclass_\u001b[0m\u001b[1;33m=\u001b[0m\u001b[1;34m'business-name'\u001b[0m\u001b[1;33m)\u001b[0m\u001b[1;33m.\u001b[0m\u001b[0mtext\u001b[0m\u001b[1;33m.\u001b[0m\u001b[0mstrip\u001b[0m\u001b[1;33m(\u001b[0m\u001b[1;33m)\u001b[0m\u001b[1;33m\u001b[0m\u001b[1;33m\u001b[0m\u001b[0m\n\u001b[0m\u001b[0;32m      4\u001b[0m     \u001b[0maddress\u001b[0m \u001b[1;33m=\u001b[0m \u001b[0mlisting\u001b[0m\u001b[1;33m.\u001b[0m\u001b[0mfind\u001b[0m\u001b[1;33m(\u001b[0m\u001b[1;34m'span'\u001b[0m\u001b[1;33m,\u001b[0m \u001b[0mclass_\u001b[0m\u001b[1;33m=\u001b[0m\u001b[1;34m'address'\u001b[0m\u001b[1;33m)\u001b[0m\u001b[1;33m.\u001b[0m\u001b[0mtext\u001b[0m\u001b[1;33m.\u001b[0m\u001b[0mstrip\u001b[0m\u001b[1;33m(\u001b[0m\u001b[1;33m)\u001b[0m\u001b[1;33m\u001b[0m\u001b[1;33m\u001b[0m\u001b[0m\n\u001b[0;32m      5\u001b[0m     \u001b[0mphone\u001b[0m \u001b[1;33m=\u001b[0m \u001b[0mlisting\u001b[0m\u001b[1;33m.\u001b[0m\u001b[0mfind\u001b[0m\u001b[1;33m(\u001b[0m\u001b[1;34m'span'\u001b[0m\u001b[1;33m,\u001b[0m \u001b[1;33m{\u001b[0m\u001b[1;34m'itemprop'\u001b[0m\u001b[1;33m:\u001b[0m \u001b[1;34m'telephone'\u001b[0m\u001b[1;33m}\u001b[0m\u001b[1;33m)\u001b[0m\u001b[1;33m.\u001b[0m\u001b[0mtext\u001b[0m\u001b[1;33m.\u001b[0m\u001b[0mstrip\u001b[0m\u001b[1;33m(\u001b[0m\u001b[1;33m)\u001b[0m\u001b[1;33m\u001b[0m\u001b[1;33m\u001b[0m\u001b[0m\n",
      "\u001b[1;31mAttributeError\u001b[0m: 'NoneType' object has no attribute 'text'"
     ]
    }
   ],
   "source": [
    "listings = soup.find_all('div', class_='listing_right_section')\n",
    "for listing in listings:\n",
    "    name = listing.find('a', class_='business-name').text.strip()\n",
    "    address = listing.find('span', class_='address').text.strip()\n",
    "    phone = listing.find('span', {'itemprop': 'telephone'}).text.strip()\n",
    "    "
   ]
  },
  {
   "cell_type": "code",
   "execution_count": null,
   "id": "54384961",
   "metadata": {},
   "outputs": [],
   "source": [
    "# Create a dictionary from the lists"
   ]
  },
  {
   "cell_type": "code",
   "execution_count": null,
   "id": "57072953",
   "metadata": {},
   "outputs": [],
   "source": [
    "painters.append({\n",
    "        'Name': name,\n",
    "        'Address': address,\n",
    "        'Phone': phone\n",
    "    })"
   ]
  },
  {
   "cell_type": "code",
   "execution_count": null,
   "id": "11e7fa5a",
   "metadata": {},
   "outputs": [],
   "source": [
    "# Create a DataFrame from the dictionary"
   ]
  },
  {
   "cell_type": "code",
   "execution_count": null,
   "id": "22fb28cc",
   "metadata": {},
   "outputs": [],
   "source": [
    "df = pd.DataFrame(data)"
   ]
  },
  {
   "cell_type": "code",
   "execution_count": null,
   "id": "cc7a1a46",
   "metadata": {},
   "outputs": [],
   "source": [
    "# Save the DataFrame to an Excel file"
   ]
  },
  {
   "cell_type": "code",
   "execution_count": null,
   "id": "2bcf166b",
   "metadata": {},
   "outputs": [],
   "source": [
    "df.to_excel('painters.xlsx', index=False)"
   ]
  },
  {
   "cell_type": "code",
   "execution_count": null,
   "id": "82f4b6a8",
   "metadata": {},
   "outputs": [],
   "source": [
    "print(df.head(10))"
   ]
  },
  {
   "cell_type": "code",
   "execution_count": null,
   "id": "19fd3671",
   "metadata": {},
   "outputs": [],
   "source": []
  },
  {
   "cell_type": "code",
   "execution_count": null,
   "id": "b505adf4",
   "metadata": {},
   "outputs": [],
   "source": []
  }
 ],
 "metadata": {
  "kernelspec": {
   "display_name": "Python 3",
   "language": "python",
   "name": "python3"
  },
  "language_info": {
   "codemirror_mode": {
    "name": "ipython",
    "version": 3
   },
   "file_extension": ".py",
   "mimetype": "text/x-python",
   "name": "python",
   "nbconvert_exporter": "python",
   "pygments_lexer": "ipython3",
   "version": "3.8.8"
  }
 },
 "nbformat": 4,
 "nbformat_minor": 5
}
